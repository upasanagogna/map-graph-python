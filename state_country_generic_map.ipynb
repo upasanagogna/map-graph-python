{
 "cells": [
  {
   "cell_type": "code",
   "execution_count": 5,
   "metadata": {},
   "outputs": [],
   "source": [
    "from geopy.geocoders import Nominatim\n",
    "import plotly.graph_objects as go\n",
    "\n",
    "import warnings\n",
    "import itertools\n",
    "import numpy as np\n",
    "warnings.filterwarnings(\"ignore\")\n",
    "import pandas as pd"
   ]
  },
  {
   "cell_type": "code",
   "execution_count": null,
   "metadata": {},
   "outputs": [],
   "source": [
    "df = pd.read_excel(\"C:\\\\Users\\\\ugogna\\\\Downloads\\\\Superstore.xls\")\n",
    "df.head()"
   ]
  },
  {
   "cell_type": "code",
   "execution_count": 6,
   "metadata": {},
   "outputs": [],
   "source": [
    "def usAbbrivationCalc(df,State,Sales):\n",
    "#dict to create US abbriviations\n",
    "    try:    \n",
    "        us_state_abbrev ={\n",
    "                \"Alabama\": \"AL\",\"Alaska\": \"AK\",\"Arizona\": \"AZ\",\"Arkansas\": \"AR\",\"California\": \"CA\",\"Colorado\": \"CO\"\n",
    "                ,\"Connecticut\": \"CT\",\"Delaware\": \"DE\",\"Florida\": \"FL\",\"Georgia\": \"GA\",\"Hawaii\": \"HI\",\"Idaho\": \"ID\"\n",
    "                ,\"Illinois\": \"IL\",\"Indiana\": \"IN\",\"Iowa\": \"IA\",\"Kansas\": \"KS\",\"Kentucky\": \"KY\",\"Louisiana\": \"LA\",\"Maine\": \"ME\"\n",
    "                ,\"Maryland\": \"MD\",\"Massachusetts\": \"MA\",\"Michigan\": \"MI\",\"Minnesota\": \"MN\",\"Mississippi\": \"MS\",\"Missouri\": \"MO\"\n",
    "                ,\"Montana\": \"MT\",\"Nebraska\": \"NE\",\"Nevada\": \"NV\",\"New Hampshire\": \"NH\",\"New Jersey\": \"NJ\",\"New Mexico\": \"NM\"\n",
    "                ,\"New York\": \"NY\",\"North Carolina\": \"NC\",\"North Dakota\": \"ND\",\"Ohio\": \"OH\",\"Oklahoma\": \"OK\",\"Oregon\": \"OR\"\n",
    "                ,\"Pennsylvania\": \"PA\",\"Rhode Island\":\"RI\",\"South Carolina\": \"SC\",\"South Dakota\": \"SD\",\"Tennessee\": \"TN\"\n",
    "                ,\"Texas\": \"TX\",\"Utah\": \"UT\",\"Vermont\": \"VT\",\"Virginia\": \"VA\",\"Washington\": \"WA\",\"West Virginia\": \"WV\",\"Wisconsin\": \"WI\"\n",
    "                ,\"Wyoming\": \"WY\",\"District of Columbia\": \"DC\"\n",
    "            }\n",
    "\n",
    "        df_grouped =df.groupby([State])[Sales].sum().reset_index()\n",
    "        text = df_grouped[State]\n",
    "        df_grouped =df_grouped.replace({\"State\": us_state_abbrev}) \n",
    "    except Exception as error:\n",
    "            raise Exception(\"usAbbrivationCalc:\" + str(error))\n",
    "\n",
    "    return (df_grouped,text)"
   ]
  },
  {
   "cell_type": "code",
   "execution_count": 7,
   "metadata": {},
   "outputs": [],
   "source": [
    "def state_map_plot(df_grouped,text):\n",
    "    data = [go.Choropleth(colorscale = 'YlGnBu',\n",
    "                          autocolorscale = False,\n",
    "                          locations = df_grouped['State'],\n",
    "                          z = df_grouped['Sales'].astype(float),\n",
    "                          locationmode = 'USA-states',\n",
    "                          text= text,\n",
    "                          marker = go.choropleth.Marker(\n",
    "                                   line = go.choropleth.marker.Line(\n",
    "                                          color = 'rgb(255,255,255)',\n",
    "                                          width = 2\n",
    "                                   )),\n",
    "                          colorbar = go.choropleth.ColorBar(\n",
    "                                     title = \"Sales in $\")\n",
    "                          )]\n",
    "\n",
    "    layout = go.Layout(\n",
    "    title = go.layout.Title(\n",
    "        text = 'Sales per state<br>(Hover for breakdown)'\n",
    "    ),\n",
    "    geo = go.layout.Geo(\n",
    "        scope = 'usa',\n",
    "        projection = go.layout.geo.Projection(type = 'albers usa'),\n",
    "        showlakes = True,\n",
    "        lakecolor = 'rgb(255, 255, 255)'),\n",
    "        #height=540 , width = 700, \n",
    "        paper_bgcolor=\"LightSteelBlue\",\n",
    "     )\n",
    "\n",
    "    fig = go.Figure(data = data, layout = layout)\n",
    "    #pyoff.plot(fig, filename= Config.SALES_FORECASTING_state_map_plot, auto_open=False)\n",
    "    return(fig)"
   ]
  },
  {
   "cell_type": "code",
   "execution_count": 8,
   "metadata": {},
   "outputs": [],
   "source": [
    "#function to calculate longitude latitude of location\n",
    "def loc_lat_lan_calc(max_min_group,State_col):\n",
    "    geolocator = Nominatim(user_agent=\"prediction\")\n",
    "    loc_lat=[]\n",
    "    loc_lon=[]\n",
    "    for i in max_group['State']:\n",
    "        locate = geolocator.geocode(i)\n",
    "        l1= locate.latitude \n",
    "        l2= locate.longitude\n",
    "        loc_lat.append(l1)\n",
    "        loc_lon.append(l1)\n",
    "    retuen(loc_lat,loc_lon)"
   ]
  },
  {
   "cell_type": "code",
   "execution_count": 9,
   "metadata": {},
   "outputs": [],
   "source": [
    "#map for lon_lat\n",
    "def map_city_lon_lat(max_min_group,text,Sales_col):\n",
    "    fig = go.Figure(data=go.Scattergeo(\n",
    "        lon = loc_lon,\n",
    "        lat = loc_lat,\n",
    "        text = max_group['text'],\n",
    "        mode = 'markers',\n",
    "        marker_color = max_group['Sales'],\n",
    "    ))\n",
    "    fig.update_layout(\n",
    "            title = 'Most Sales affected states US airports<br>(Hover for state names)'\n",
    "                \n",
    "    )\n",
    "    fig.show()\n",
    "    #pyoff.plot(fig, filename= Config.SALES_FORECASTING_state_map_plot, auto_open=False)"
   ]
  },
  {
   "cell_type": "code",
   "execution_count": null,
   "metadata": {},
   "outputs": [],
   "source": []
  },
  {
   "cell_type": "code",
   "execution_count": null,
   "metadata": {},
   "outputs": [],
   "source": [
    "con_city_group =pd.DataFrame({'Sales' :df.groupby(by=['Country','State'])['Sales'].sum()}).reset_index()\n",
    "if ((con_city_group['Country'].nunique()) ==1):\n",
    "    df_grouped,text =us_abbrivation(con_city_group,'State','Sales')\n",
    "    fig2 =state_map_plot(df_grouped,text)\n",
    "    fig2.show()\n",
    "    \n",
    "else :\n",
    "    con_city_group['text'] = con_city_group['Country'] +  ', ' + con_city_group['State'] + '' + 'Sales: ' + con_city_group['Sales'].astype(str)\n",
    "    con_city_group =con_city_group.sort_values(by='Sales', ascending=False).reset_index()\n",
    "    max_group=con_city_group.nlargest(100,'Sales')\n",
    "    min_group=con_city_group.nsmallest(100,'Sales')\n",
    "    longtd, latidue = loc_lat_lan_calc(max_min_group,State_col)\n",
    "    max_group['text'] = max_group['Country'] +  ', ' + max_group['State'] + '' + 'Sales: ' + max_group['Sales'].round(2).astype(str)\n",
    "    map_city_lon_lat(max_min_group,text,Sales_col)\n",
    "    "
   ]
  },
  {
   "cell_type": "code",
   "execution_count": null,
   "metadata": {},
   "outputs": [],
   "source": [
    "df_grouped,text =us_abbrivation(df,'State','Sales')\n"
   ]
  },
  {
   "cell_type": "code",
   "execution_count": null,
   "metadata": {},
   "outputs": [],
   "source": []
  }
 ],
 "metadata": {
  "kernelspec": {
   "display_name": "Python 3",
   "language": "python",
   "name": "python3"
  },
  "language_info": {
   "codemirror_mode": {
    "name": "ipython",
    "version": 3
   },
   "file_extension": ".py",
   "mimetype": "text/x-python",
   "name": "python",
   "nbconvert_exporter": "python",
   "pygments_lexer": "ipython3",
   "version": "3.7.4"
  }
 },
 "nbformat": 4,
 "nbformat_minor": 4
}
